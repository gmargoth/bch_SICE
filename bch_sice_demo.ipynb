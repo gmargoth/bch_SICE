{
 "cells": [
  {
   "cell_type": "code",
   "execution_count": 1,
   "metadata": {},
   "outputs": [
    {
     "name": "stderr",
     "output_type": "stream",
     "text": [
      "Cloning into 'bch_sice'...\n",
      "fatal: not a git repository (or any of the parent directories): .git\n"
     ]
    }
   ],
   "source": [
    "# !git clone https://github.com/gmargoth/bch_sice.git\n",
    "# !git pull https://github.com/gmargoth/bch_sice.git\n",
    "\n",
    "from bch_sice.bch_sice_download import login_SICE,downaload_SICE_query"
   ]
  },
  {
   "cell_type": "code",
   "execution_count": 2,
   "metadata": {},
   "outputs": [],
   "source": [
    "username, password = \"YOUR_USENAME\", \"YOUR_PASSWORD\"\n",
    "save_to = \"C:\\\\YOUR\\\\USER\\\\PATH\\\\DIR\\\\\"\n",
    "\n",
    "session = login_SICE(username,password, save_to)"
   ]
  },
  {
   "cell_type": "code",
   "execution_count": 3,
   "metadata": {},
   "outputs": [],
   "source": [
    "serie = \"Importaciones\" # Importaciones, Exportaciones, BalanzaCambiaria\n",
    "year = True\n",
    "month = True\n",
    "country = False\n",
    "\n",
    "downaload_SICE_query(session, serie, year, month, country)"
   ]
  },
  {
   "cell_type": "code",
   "execution_count": 4,
   "metadata": {},
   "outputs": [],
   "source": [
    "session.quit()"
   ]
  },
  {
   "cell_type": "code",
   "execution_count": 5,
   "metadata": {},
   "outputs": [
    {
     "data": {
      "text/html": [
       "<div>\n",
       "<style scoped>\n",
       "    .dataframe tbody tr th:only-of-type {\n",
       "        vertical-align: middle;\n",
       "    }\n",
       "\n",
       "    .dataframe tbody tr th {\n",
       "        vertical-align: top;\n",
       "    }\n",
       "\n",
       "    .dataframe thead th {\n",
       "        text-align: right;\n",
       "    }\n",
       "</style>\n",
       "<table border=\"1\" class=\"dataframe\">\n",
       "  <thead>\n",
       "    <tr style=\"text-align: right;\">\n",
       "      <th></th>\n",
       "      <th>Unnamed: 0</th>\n",
       "      <th>Unnamed: 1</th>\n",
       "      <th>Unnamed: 2</th>\n",
       "      <th>Unnamed: 3</th>\n",
       "    </tr>\n",
       "  </thead>\n",
       "  <tbody>\n",
       "    <tr>\n",
       "      <th>0</th>\n",
       "      <td>Banco Central de Honduras</td>\n",
       "      <td>NaN</td>\n",
       "      <td>NaN</td>\n",
       "      <td>NaN</td>\n",
       "    </tr>\n",
       "    <tr>\n",
       "      <th>1</th>\n",
       "      <td>SAC Consulta de Comercio de Mercancías</td>\n",
       "      <td>NaN</td>\n",
       "      <td>NaN</td>\n",
       "      <td>NaN</td>\n",
       "    </tr>\n",
       "    <tr>\n",
       "      <th>2</th>\n",
       "      <td>NaN</td>\n",
       "      <td>NaN</td>\n",
       "      <td>NaN</td>\n",
       "      <td>NaN</td>\n",
       "    </tr>\n",
       "    <tr>\n",
       "      <th>3</th>\n",
       "      <td>Tipo de Comercio: IMPORTACIONES</td>\n",
       "      <td>NaN</td>\n",
       "      <td>NaN</td>\n",
       "      <td>NaN</td>\n",
       "    </tr>\n",
       "    <tr>\n",
       "      <th>4</th>\n",
       "      <td>Años: TODOS</td>\n",
       "      <td>NaN</td>\n",
       "      <td>NaN</td>\n",
       "      <td>NaN</td>\n",
       "    </tr>\n",
       "    <tr>\n",
       "      <th>...</th>\n",
       "      <td>...</td>\n",
       "      <td>...</td>\n",
       "      <td>...</td>\n",
       "      <td>...</td>\n",
       "    </tr>\n",
       "    <tr>\n",
       "      <th>226</th>\n",
       "      <td>2023</td>\n",
       "      <td>Abril</td>\n",
       "      <td>1245465869.57</td>\n",
       "      <td>1034963047.99</td>\n",
       "    </tr>\n",
       "    <tr>\n",
       "      <th>227</th>\n",
       "      <td>2023</td>\n",
       "      <td>Mayo</td>\n",
       "      <td>1419336313.93</td>\n",
       "      <td>1145220439.88</td>\n",
       "    </tr>\n",
       "    <tr>\n",
       "      <th>228</th>\n",
       "      <td>2023</td>\n",
       "      <td>Junio</td>\n",
       "      <td>1321511431.59</td>\n",
       "      <td>1103947917.79</td>\n",
       "    </tr>\n",
       "    <tr>\n",
       "      <th>229</th>\n",
       "      <td>2023</td>\n",
       "      <td>Julio</td>\n",
       "      <td>1393427466.86</td>\n",
       "      <td>1135745506.64</td>\n",
       "    </tr>\n",
       "    <tr>\n",
       "      <th>230</th>\n",
       "      <td>2023</td>\n",
       "      <td>Agosto</td>\n",
       "      <td>1463231805.33</td>\n",
       "      <td>1220267735.45</td>\n",
       "    </tr>\n",
       "  </tbody>\n",
       "</table>\n",
       "<p>231 rows × 4 columns</p>\n",
       "</div>"
      ],
      "text/plain": [
       "                                 Unnamed: 0 Unnamed: 1     Unnamed: 2  \\\n",
       "0                 Banco Central de Honduras        NaN            NaN   \n",
       "1    SAC Consulta de Comercio de Mercancías        NaN            NaN   \n",
       "2                                       NaN        NaN            NaN   \n",
       "3           Tipo de Comercio: IMPORTACIONES        NaN            NaN   \n",
       "4                               Años: TODOS        NaN            NaN   \n",
       "..                                      ...        ...            ...   \n",
       "226                                    2023      Abril  1245465869.57   \n",
       "227                                    2023       Mayo  1419336313.93   \n",
       "228                                    2023      Junio  1321511431.59   \n",
       "229                                    2023      Julio  1393427466.86   \n",
       "230                                    2023     Agosto  1463231805.33   \n",
       "\n",
       "        Unnamed: 3  \n",
       "0              NaN  \n",
       "1              NaN  \n",
       "2              NaN  \n",
       "3              NaN  \n",
       "4              NaN  \n",
       "..             ...  \n",
       "226  1034963047.99  \n",
       "227  1145220439.88  \n",
       "228  1103947917.79  \n",
       "229  1135745506.64  \n",
       "230  1220267735.45  \n",
       "\n",
       "[231 rows x 4 columns]"
      ]
     },
     "metadata": {},
     "output_type": "display_data"
    }
   ],
   "source": [
    "# %pip install xlrd\n",
    "\n",
    "import pandas as pd\n",
    "data = pd.read_excel(save_to + \"Consulta_de_Comercio_de_Mercancías.xls\")\n",
    "display(data)"
   ]
  }
 ],
 "metadata": {
  "kernelspec": {
   "display_name": "Python 3",
   "language": "python",
   "name": "python3"
  },
  "language_info": {
   "codemirror_mode": {
    "name": "ipython",
    "version": 3
   },
   "file_extension": ".py",
   "mimetype": "text/x-python",
   "name": "python",
   "nbconvert_exporter": "python",
   "pygments_lexer": "ipython3",
   "version": "3.11.4"
  }
 },
 "nbformat": 4,
 "nbformat_minor": 2
}
